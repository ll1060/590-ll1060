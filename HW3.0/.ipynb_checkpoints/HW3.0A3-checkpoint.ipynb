{
 "cells": [
  {
   "cell_type": "code",
   "execution_count": 12,
   "metadata": {},
   "outputs": [],
   "source": [
    "import matplotlib.pyplot as plt\n",
    "import numpy as np\n",
    "import pandas as pd\n",
    "import seaborn as sns\n",
    "from sklearn.model_selection import train_test_split\n",
    "import tensorflow as tf\n",
    "from tensorflow import keras\n",
    "from keras import models\n",
    "from tensorflow.keras import layers\n",
    "from tensorflow.keras.layers.experimental import preprocessing\n",
    "from keras.datasets import imdb"
   ]
  },
  {
   "cell_type": "code",
   "execution_count": 5,
   "metadata": {},
   "outputs": [],
   "source": [
    "from keras.datasets import reuters\n",
    "(train_data, train_targets), (test_val_data, test_val_targets) = reuters.load_data(\n",
    "num_words=10000)"
   ]
  },
  {
   "cell_type": "code",
   "execution_count": 6,
   "metadata": {},
   "outputs": [],
   "source": [
    "# split test and validation to be 50:50\n",
    "test_data, val_data, test_targets, val_targets = train_test_split(test_val_data, test_val_targets, test_size=0.5)"
   ]
  },
  {
   "cell_type": "code",
   "execution_count": 7,
   "metadata": {},
   "outputs": [
    {
     "name": "stdout",
     "output_type": "stream",
     "text": [
      "Downloading data from https://storage.googleapis.com/tensorflow/tf-keras-datasets/reuters_word_index.json\n",
      "557056/550378 [==============================] - 0s 0us/step\n",
      "565248/550378 [==============================] - 0s 0us/step\n"
     ]
    }
   ],
   "source": [
    "word_index = reuters.get_word_index()\n",
    "reverse_word_index = dict([(value, key) for (key, value) in word_index.items()])\n",
    "decoded_newswire = ' '.join([reverse_word_index.get(i - 3, '?') for i in train_data[0]])"
   ]
  },
  {
   "cell_type": "code",
   "execution_count": 9,
   "metadata": {},
   "outputs": [],
   "source": [
    "def vectorize_sequences(sequences, dimension=10000):\n",
    "    results = np.zeros((len(sequences), dimension))\n",
    "    for i, sequence in enumerate(sequences):\n",
    "        results[i, sequence] = 1.\n",
    "    return results\n",
    "x_train = vectorize_sequences(train_data)\n",
    "x_test = vectorize_sequences(test_data)\n",
    "x_val = vectorize_sequences(val_data)"
   ]
  },
  {
   "cell_type": "code",
   "execution_count": 10,
   "metadata": {},
   "outputs": [],
   "source": [
    "def to_one_hot(labels, dimension=46):\n",
    "    results = np.zeros((len(labels), dimension))\n",
    "    for i, label in enumerate(labels):\n",
    "        results[i, label] = 1.\n",
    "    return results\n",
    "one_hot_train_labels = to_one_hot(train_targets)\n",
    "one_hot_test_labels = to_one_hot(test_targets)\n",
    "one_hot_val_labels = to_one_hot(val_targets)"
   ]
  },
  {
   "cell_type": "code",
   "execution_count": 18,
   "metadata": {},
   "outputs": [],
   "source": [
    "\n",
    "model = models.Sequential()\n",
    "model.add(layers.Dense(64, activation='relu', input_shape=(10000,), kernel_regularizer=keras.regularizers.l2(0.001)))\n",
    "model.add(layers.Dense(64, activation='relu', kernel_regularizer='l1_l2'))\n",
    "model.add(layers.Dense(46, activation='softmax'))\n",
    "\n",
    "model.compile(optimizer='rmsprop',\n",
    "loss='categorical_crossentropy',\n",
    "metrics=['accuracy'])"
   ]
  },
  {
   "cell_type": "code",
   "execution_count": 19,
   "metadata": {},
   "outputs": [
    {
     "name": "stdout",
     "output_type": "stream",
     "text": [
      "Epoch 1/20\n",
      "18/18 [==============================] - 2s 41ms/step - loss: 2.9555 - accuracy: 0.4220 - val_loss: 1.7012 - val_accuracy: 0.6456\n",
      "Epoch 2/20\n",
      "18/18 [==============================] - 0s 22ms/step - loss: 1.4440 - accuracy: 0.6908 - val_loss: 1.3205 - val_accuracy: 0.7008\n",
      "Epoch 3/20\n",
      "18/18 [==============================] - 0s 21ms/step - loss: 1.0264 - accuracy: 0.7759 - val_loss: 1.1494 - val_accuracy: 0.7596\n",
      "Epoch 4/20\n",
      "18/18 [==============================] - 0s 22ms/step - loss: 0.8020 - accuracy: 0.8282 - val_loss: 1.0582 - val_accuracy: 0.7818\n",
      "Epoch 5/20\n",
      "18/18 [==============================] - 0s 22ms/step - loss: 0.6305 - accuracy: 0.8678 - val_loss: 1.0118 - val_accuracy: 0.7898\n",
      "Epoch 6/20\n",
      "18/18 [==============================] - 0s 22ms/step - loss: 0.4881 - accuracy: 0.8982 - val_loss: 0.9567 - val_accuracy: 0.7943\n",
      "Epoch 7/20\n",
      "18/18 [==============================] - 0s 22ms/step - loss: 0.4084 - accuracy: 0.9165 - val_loss: 0.9571 - val_accuracy: 0.7943\n",
      "Epoch 8/20\n",
      "18/18 [==============================] - 0s 25ms/step - loss: 0.3075 - accuracy: 0.9321 - val_loss: 0.9439 - val_accuracy: 0.7952\n",
      "Epoch 9/20\n",
      "18/18 [==============================] - 0s 22ms/step - loss: 0.2512 - accuracy: 0.9436 - val_loss: 0.9867 - val_accuracy: 0.7907\n",
      "Epoch 10/20\n",
      "18/18 [==============================] - 0s 23ms/step - loss: 0.2364 - accuracy: 0.9473 - val_loss: 0.9660 - val_accuracy: 0.7952\n",
      "Epoch 11/20\n",
      "18/18 [==============================] - 0s 23ms/step - loss: 0.1839 - accuracy: 0.9518 - val_loss: 1.0136 - val_accuracy: 0.7979\n",
      "Epoch 12/20\n",
      "18/18 [==============================] - 0s 21ms/step - loss: 0.1621 - accuracy: 0.9540 - val_loss: 1.0169 - val_accuracy: 0.8023\n",
      "Epoch 13/20\n",
      "18/18 [==============================] - 0s 23ms/step - loss: 0.1515 - accuracy: 0.9551 - val_loss: 1.0843 - val_accuracy: 0.7898\n",
      "Epoch 14/20\n",
      "18/18 [==============================] - 0s 22ms/step - loss: 0.1395 - accuracy: 0.9561 - val_loss: 1.0868 - val_accuracy: 0.7925\n",
      "Epoch 15/20\n",
      "18/18 [==============================] - 0s 21ms/step - loss: 0.1251 - accuracy: 0.9586 - val_loss: 1.0759 - val_accuracy: 0.8023\n",
      "Epoch 16/20\n",
      "18/18 [==============================] - 0s 20ms/step - loss: 0.1242 - accuracy: 0.9587 - val_loss: 1.1251 - val_accuracy: 0.7836\n",
      "Epoch 17/20\n",
      "18/18 [==============================] - 0s 21ms/step - loss: 0.1180 - accuracy: 0.9581 - val_loss: 1.1605 - val_accuracy: 0.7854\n",
      "Epoch 18/20\n",
      "18/18 [==============================] - 0s 23ms/step - loss: 0.1174 - accuracy: 0.9574 - val_loss: 1.2452 - val_accuracy: 0.7872\n",
      "Epoch 19/20\n",
      "18/18 [==============================] - 0s 25ms/step - loss: 0.1019 - accuracy: 0.9638 - val_loss: 1.1954 - val_accuracy: 0.7907\n",
      "Epoch 20/20\n",
      "18/18 [==============================] - 0s 21ms/step - loss: 0.1030 - accuracy: 0.9616 - val_loss: 1.2190 - val_accuracy: 0.7854\n"
     ]
    }
   ],
   "source": [
    "history = model.fit(x_train,one_hot_train_labels,\n",
    "epochs=20,\n",
    "batch_size=512,\n",
    "validation_data=(x_val, one_hot_val_labels))"
   ]
  },
  {
   "cell_type": "code",
   "execution_count": 20,
   "metadata": {},
   "outputs": [
    {
     "data": {
      "image/png": "[encoded data removed]",
      "text/plain": [
       "<Figure size 432x288 with 1 Axes>"
      ]
     },
     "metadata": {
      "needs_background": "light"
     },
     "output_type": "display_data"
    }
   ],
   "source": [
    "import matplotlib.pyplot as plt\n",
    "loss = history.history['loss']\n",
    "val_loss = history.history['val_loss']\n",
    "epochs = range(1, len(loss) + 1)\n",
    "plt.plot(epochs, loss, 'bo', label='Training loss')\n",
    "plt.plot(epochs, val_loss, 'b', label='Validation loss')\n",
    "plt.title('Training and validation loss')\n",
    "plt.xlabel('Epochs')\n",
    "plt.ylabel('Loss')\n",
    "plt.legend()\n",
    "plt.show()"
   ]
  },
  {
   "cell_type": "code",
   "execution_count": 21,
   "metadata": {},
   "outputs": [
    {
     "name": "stdout",
     "output_type": "stream",
     "text": [
      "36/36 [==============================] - 0s 2ms/step - loss: 1.2306 - accuracy: 0.7836\n"
     ]
    },
    {
     "data": {
      "text/plain": [
       "[1.230600118637085, 0.7836152911186218]"
      ]
     },
     "execution_count": 21,
     "metadata": {},
     "output_type": "execute_result"
    }
   ],
   "source": [
    "results = model.evaluate(x_test, one_hot_test_labels)\n",
    "results"
   ]
  },
  {
   "cell_type": "code",
   "execution_count": null,
   "metadata": {},
   "outputs": [],
   "source": []
  }
 ],
 "metadata": {
  "kernelspec": {
   "display_name": "Python 3",
   "language": "python",
   "name": "python3"
  },
  "language_info": {
   "codemirror_mode": {
    "name": "ipython",
    "version": 3
   },
   "file_extension": ".py",
   "mimetype": "text/x-python",
   "name": "python",
   "nbconvert_exporter": "python",
   "pygments_lexer": "ipython3",
   "version": "3.7.6"
  }
 },
 "nbformat": 4,
 "nbformat_minor": 4
}

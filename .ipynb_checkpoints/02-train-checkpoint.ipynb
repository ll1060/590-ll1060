{
 "cells": [
  {
   "cell_type": "code",
   "execution_count": 4,
   "metadata": {},
   "outputs": [],
   "source": [
    "from sklearn.utils import shuffle\n",
    "import os\n",
    "import re\n",
    "import random\n",
    "import numpy as np\n",
    "from keras import preprocessing\n",
    "from sklearn.model_selection import train_test_split\n",
    "import keras\n",
    "from tensorflow.keras import regularizers\n",
    "from tensorflow.keras import layers\n",
    "import matplotlib.pyplot as plt\n",
    "import tensorflow as tf"
   ]
  },
  {
   "cell_type": "code",
   "execution_count": 5,
   "metadata": {},
   "outputs": [],
   "source": [
    "X = np.load('./cleaned_data/x_data.npy')\n",
    "Y = np.load('./cleaned_data/y_data.npy')\n",
    "X, Y = shuffle(X, Y, random_state = 66) #shuffle these two matrices so that they are not in orders of books\n",
    "X_train, X_test, y_train, y_test = train_test_split(X, Y, test_size=0.2, random_state=77)\n"
   ]
  },
  {
   "cell_type": "code",
   "execution_count": 6,
   "metadata": {},
   "outputs": [
    {
     "data": {
      "text/plain": [
       "(11200, 10)"
      ]
     },
     "execution_count": 6,
     "metadata": {},
     "output_type": "execute_result"
    }
   ],
   "source": [
    "X_train.shape"
   ]
  },
  {
   "cell_type": "code",
   "execution_count": 15,
   "metadata": {},
   "outputs": [],
   "source": [
    "# #APPLY CONVOLUTION\n",
    "# import tensorflow as tf\n",
    "\n",
    "# layer1=tf.keras.layers.Conv1D(\n",
    "# \t1, 2, activation='relu',\n",
    "#     kernel_initializer=\"ones\",\n",
    "#     bias_initializer=\"zeros\",\n",
    "# \tinput_shape=X_train_val.shape[1:]\n",
    "# \t)\n",
    "# y_train_val = layer1(X_train_val)\n",
    "\n",
    "\n",
    "\n",
    "# def report(x,y,l):\n",
    "# \tprint(\"X:\"); print(x); \n",
    "# \tprint(\"X SHAPE:\",X_train_val.shape)\n",
    "# \tprint(\"KERNAL SHAPE:\",l.get_weights()[0].shape)\n",
    "# \tprint(\"KERNAL:\"); print(l.get_weights()[0])\n",
    "# \tprint(\"Y SHAPE\",y_train_val.shape)\n",
    "# \tprint(\"Y:\"); print(y_train_val)\n",
    "# report(X_train_val,y_train_val,layer1)\n",
    "\n",
    "# #GET LAYER INFO\n",
    "# from keras.models import Sequential \n",
    "# model= Sequential()\n",
    "# model.add(layer1)\n",
    "# model.fit(X_train_val)\n",
    "# model.summary()"
   ]
  },
  {
   "cell_type": "code",
   "execution_count": 27,
   "metadata": {},
   "outputs": [
    {
     "name": "stdout",
     "output_type": "stream",
     "text": [
      "Epoch 1/30\n",
      "70/70 [==============================] - 2s 11ms/step - loss: 0.6930 - accuracy: 0.4856 - auc: 0.5353 - val_loss: 0.6906 - val_accuracy: 0.5143 - val_auc: 0.6184\n",
      "Epoch 2/30\n",
      "70/70 [==============================] - 0s 3ms/step - loss: 0.6904 - accuracy: 0.4956 - auc: 0.6346 - val_loss: 0.6888 - val_accuracy: 0.5143 - val_auc: 0.6510\n",
      "Epoch 3/30\n",
      "70/70 [==============================] - 0s 3ms/step - loss: 0.6883 - accuracy: 0.4968 - auc: 0.6666 - val_loss: 0.6865 - val_accuracy: 0.5143 - val_auc: 0.6683\n",
      "Epoch 4/30\n",
      "70/70 [==============================] - 0s 3ms/step - loss: 0.6852 - accuracy: 0.4956 - auc: 0.7002 - val_loss: 0.6834 - val_accuracy: 0.5143 - val_auc: 0.6776\n",
      "Epoch 5/30\n",
      "70/70 [==============================] - 0s 3ms/step - loss: 0.6816 - accuracy: 0.4919 - auc: 0.7123 - val_loss: 0.6798 - val_accuracy: 0.5143 - val_auc: 0.6835\n",
      "Epoch 6/30\n",
      "70/70 [==============================] - 0s 3ms/step - loss: 0.6778 - accuracy: 0.4932 - auc: 0.7220 - val_loss: 0.6756 - val_accuracy: 0.5143 - val_auc: 0.6895\n",
      "Epoch 7/30\n",
      "70/70 [==============================] - 0s 3ms/step - loss: 0.6726 - accuracy: 0.4963 - auc: 0.7286 - val_loss: 0.6710 - val_accuracy: 0.5143 - val_auc: 0.6947\n",
      "Epoch 8/30\n",
      "70/70 [==============================] - 0s 3ms/step - loss: 0.6691 - accuracy: 0.4996 - auc: 0.7246 - val_loss: 0.6660 - val_accuracy: 0.5143 - val_auc: 0.6991\n",
      "Epoch 9/30\n",
      "70/70 [==============================] - 0s 3ms/step - loss: 0.6623 - accuracy: 0.5022 - auc: 0.7377 - val_loss: 0.6610 - val_accuracy: 0.5433 - val_auc: 0.7027\n",
      "Epoch 10/30\n",
      "70/70 [==============================] - 0s 3ms/step - loss: 0.6569 - accuracy: 0.5351 - auc: 0.7424 - val_loss: 0.6563 - val_accuracy: 0.5786 - val_auc: 0.7072\n",
      "Epoch 11/30\n",
      "70/70 [==============================] - 0s 3ms/step - loss: 0.6536 - accuracy: 0.5868 - auc: 0.7383 - val_loss: 0.6519 - val_accuracy: 0.6250 - val_auc: 0.7118\n",
      "Epoch 12/30\n",
      "70/70 [==============================] - 0s 3ms/step - loss: 0.6467 - accuracy: 0.6202 - auc: 0.7470 - val_loss: 0.6477 - val_accuracy: 0.6348 - val_auc: 0.7148\n",
      "Epoch 13/30\n",
      "70/70 [==============================] - 0s 3ms/step - loss: 0.6427 - accuracy: 0.6183 - auc: 0.7510 - val_loss: 0.6439 - val_accuracy: 0.6335 - val_auc: 0.7183\n",
      "Epoch 14/30\n",
      "70/70 [==============================] - 0s 3ms/step - loss: 0.6407 - accuracy: 0.6155 - auc: 0.7460 - val_loss: 0.6401 - val_accuracy: 0.6313 - val_auc: 0.7216\n",
      "Epoch 15/30\n",
      "70/70 [==============================] - 0s 3ms/step - loss: 0.6328 - accuracy: 0.6203 - auc: 0.7598 - val_loss: 0.6367 - val_accuracy: 0.6299 - val_auc: 0.7243\n",
      "Epoch 16/30\n",
      "70/70 [==============================] - 0s 3ms/step - loss: 0.6266 - accuracy: 0.6248 - auc: 0.7620 - val_loss: 0.6334 - val_accuracy: 0.6304 - val_auc: 0.7267\n",
      "Epoch 17/30\n",
      "70/70 [==============================] - 0s 3ms/step - loss: 0.6269 - accuracy: 0.6191 - auc: 0.7573 - val_loss: 0.6301 - val_accuracy: 0.6308 - val_auc: 0.7291\n",
      "Epoch 18/30\n",
      "70/70 [==============================] - 0s 3ms/step - loss: 0.6225 - accuracy: 0.6138 - auc: 0.7601 - val_loss: 0.6267 - val_accuracy: 0.6313 - val_auc: 0.7320\n",
      "Epoch 19/30\n",
      "70/70 [==============================] - 0s 3ms/step - loss: 0.6227 - accuracy: 0.6099 - auc: 0.7558 - val_loss: 0.6234 - val_accuracy: 0.6321 - val_auc: 0.7348\n",
      "Epoch 20/30\n",
      "70/70 [==============================] - 0s 3ms/step - loss: 0.6073 - accuracy: 0.6223 - auc: 0.7775 - val_loss: 0.6196 - val_accuracy: 0.6330 - val_auc: 0.7367\n",
      "Epoch 21/30\n",
      "70/70 [==============================] - 0s 3ms/step - loss: 0.6017 - accuracy: 0.6233 - auc: 0.7812 - val_loss: 0.6160 - val_accuracy: 0.6348 - val_auc: 0.7397\n",
      "Epoch 22/30\n",
      "70/70 [==============================] - 0s 3ms/step - loss: 0.5988 - accuracy: 0.6236 - auc: 0.7795 - val_loss: 0.6124 - val_accuracy: 0.6362 - val_auc: 0.7423\n",
      "Epoch 23/30\n",
      "70/70 [==============================] - 0s 3ms/step - loss: 0.5960 - accuracy: 0.6270 - auc: 0.7804 - val_loss: 0.6086 - val_accuracy: 0.6406 - val_auc: 0.7456\n",
      "Epoch 24/30\n",
      "70/70 [==============================] - 0s 3ms/step - loss: 0.5848 - accuracy: 0.6411 - auc: 0.7910 - val_loss: 0.6047 - val_accuracy: 0.6451 - val_auc: 0.7487\n",
      "Epoch 25/30\n",
      "70/70 [==============================] - 0s 3ms/step - loss: 0.5807 - accuracy: 0.6438 - auc: 0.7950 - val_loss: 0.6007 - val_accuracy: 0.6518 - val_auc: 0.7522\n",
      "Epoch 26/30\n",
      "70/70 [==============================] - 0s 3ms/step - loss: 0.5809 - accuracy: 0.6401 - auc: 0.7911 - val_loss: 0.5967 - val_accuracy: 0.6571 - val_auc: 0.7554\n",
      "Epoch 27/30\n",
      "70/70 [==============================] - 0s 3ms/step - loss: 0.5739 - accuracy: 0.6522 - auc: 0.7969 - val_loss: 0.5927 - val_accuracy: 0.6616 - val_auc: 0.7591\n",
      "Epoch 28/30\n",
      "70/70 [==============================] - 0s 3ms/step - loss: 0.5641 - accuracy: 0.6559 - auc: 0.8075 - val_loss: 0.5887 - val_accuracy: 0.6661 - val_auc: 0.7624\n",
      "Epoch 29/30\n",
      "70/70 [==============================] - 0s 3ms/step - loss: 0.5591 - accuracy: 0.6628 - auc: 0.8098 - val_loss: 0.5846 - val_accuracy: 0.6719 - val_auc: 0.7662\n",
      "Epoch 30/30\n",
      "70/70 [==============================] - 0s 3ms/step - loss: 0.5490 - accuracy: 0.6696 - auc: 0.8208 - val_loss: 0.5805 - val_accuracy: 0.6759 - val_auc: 0.7697\n",
      "Model: \"sequential_15\"\n",
      "_________________________________________________________________\n",
      "Layer (type)                 Output Shape              Param #   \n",
      "=================================================================\n",
      "module_wrapper_55 (ModuleWra (None, 10, 16)            240000    \n",
      "_________________________________________________________________\n",
      "module_wrapper_56 (ModuleWra (None, 9, 64)             2112      \n",
      "_________________________________________________________________\n",
      "module_wrapper_57 (ModuleWra (None, 64)                0         \n",
      "_________________________________________________________________\n",
      "module_wrapper_58 (ModuleWra (None, 1)                 65        \n",
      "=================================================================\n",
      "Total params: 242,177\n",
      "Trainable params: 242,177\n",
      "Non-trainable params: 0\n",
      "_________________________________________________________________\n"
     ]
    }
   ],
   "source": [
    "from keras.models import Sequential\n",
    "\n",
    "from keras.optimizers import RMSprop\n",
    "from keras.optimizers import Adam\n",
    "\n",
    "max_features = 15000\n",
    "METRICS = [\n",
    "      keras.metrics.BinaryAccuracy(name='accuracy',),\n",
    "      keras.metrics.AUC(name='auc',from_logits=True)]\n",
    "\n",
    "model = Sequential()\n",
    "model.add(layers.Embedding(max_features, 16, input_length=10))\n",
    "model.add(layers.Conv1D(64, 2, activation='relu',  kernel_regularizer=tf.keras.regularizers.l1(0.001),\n",
    "    bias_regularizer=tf.keras.regularizers.l2(0.001),\n",
    "    activity_regularizer=tf.keras.regularizers.l1_l2(0.001)))\n",
    "# model.add(layers.MaxPooling1D(3))\n",
    "# model.add(layers.Conv1D(32, 2, activation='relu'))\n",
    "model.add(layers.GlobalMaxPooling1D())\n",
    "model.add(layers.Dense(1))\n",
    "\n",
    "model.compile(optimizer=RMSprop(lr=1e-4),\n",
    "loss=tf.keras.losses.BinaryCrossentropy(from_logits=True),\n",
    " metrics=METRICS)\n",
    "\n",
    "history = model.fit(X_train, y_train,\n",
    "epochs=30,\n",
    "batch_size=128,\n",
    "validation_split=0.2)\n",
    "model.summary()"
   ]
  },
  {
   "cell_type": "code",
   "execution_count": 28,
   "metadata": {},
   "outputs": [
    {
     "data": {
      "text/plain": [
       "<matplotlib.legend.Legend at 0x7fa1e3de4650>"
      ]
     },
     "execution_count": 28,
     "metadata": {},
     "output_type": "execute_result"
    },
    {
     "data": {
      "image/png": "[encoded data removed]",
      "text/plain": [
       "<Figure size 432x288 with 1 Axes>"
      ]
     },
     "metadata": {
      "needs_background": "light"
     },
     "output_type": "display_data"
    }
   ],
   "source": [
    "epochs = range(1, len(history.history['loss']) + 1)\n",
    "plt.figure()\n",
    "plt.plot(epochs, history.history['loss'], 'bo', label='Training loss')\n",
    "plt.plot(epochs, history.history['val_loss'], 'b', label='Validation loss')\n",
    "plt.legend()"
   ]
  },
  {
   "cell_type": "code",
   "execution_count": 63,
   "metadata": {},
   "outputs": [
    {
     "name": "stdout",
     "output_type": "stream",
     "text": [
      "88/88 [==============================] - 0s 1ms/step - loss: 0.5795 - accuracy: 0.6704 - auc: 0.7695\n"
     ]
    },
    {
     "name": "stderr",
     "output_type": "stream",
     "text": [
      "WARNING:absl:Found untraced functions such as embedding_14_layer_call_and_return_conditional_losses, embedding_14_layer_call_fn, conv1d_16_layer_call_and_return_all_conditional_losses, conv1d_16_layer_call_fn, dense_14_layer_call_and_return_conditional_losses while saving (showing 5 of 75). These functions will not be directly callable after loading.\n"
     ]
    },
    {
     "name": "stdout",
     "output_type": "stream",
     "text": [
      "INFO:tensorflow:Assets written to: ./saved_models/1DConv/assets\n"
     ]
    },
    {
     "name": "stderr",
     "output_type": "stream",
     "text": [
      "INFO:tensorflow:Assets written to: ./saved_models/1DConv/assets\n"
     ]
    }
   ],
   "source": [
    "model.evaluate(X_test, y_test)\n",
    "model.save('./saved_models/1DConv')"
   ]
  },
  {
   "cell_type": "code",
   "execution_count": 51,
   "metadata": {},
   "outputs": [],
   "source": [
    "X_train_3d = X_train.reshape(len(X_train), 1, X_train.shape[1])\n",
    "X_test_3d = X_test.reshape(len(X_test), 1, X_test.shape[1])"
   ]
  },
  {
   "cell_type": "code",
   "execution_count": 61,
   "metadata": {},
   "outputs": [
    {
     "name": "stdout",
     "output_type": "stream",
     "text": [
      "Epoch 1/30\n",
      "280/280 [==============================] - 3s 4ms/step - loss: 0.9079 - accuracy: 0.5731 - auc: 0.6383 - val_loss: 0.8765 - val_accuracy: 0.5156 - val_auc: 0.5220\n",
      "Epoch 2/30\n",
      "280/280 [==============================] - 0s 2ms/step - loss: 0.8733 - accuracy: 0.5017 - auc: 0.5352 - val_loss: 0.8589 - val_accuracy: 0.5281 - val_auc: 0.5541\n",
      "Epoch 3/30\n",
      "280/280 [==============================] - 1s 2ms/step - loss: 0.8542 - accuracy: 0.5147 - auc: 0.5710 - val_loss: 0.8488 - val_accuracy: 0.5388 - val_auc: 0.5693\n",
      "Epoch 4/30\n",
      "280/280 [==============================] - 0s 1ms/step - loss: 0.8413 - accuracy: 0.5338 - auc: 0.5912 - val_loss: 0.8371 - val_accuracy: 0.5737 - val_auc: 0.5845\n",
      "Epoch 5/30\n",
      "280/280 [==============================] - 0s 2ms/step - loss: 0.8267 - accuracy: 0.5546 - auc: 0.6080 - val_loss: 0.8241 - val_accuracy: 0.5866 - val_auc: 0.5929\n",
      "Epoch 6/30\n",
      "280/280 [==============================] - 0s 2ms/step - loss: 0.8162 - accuracy: 0.5699 - auc: 0.6102 - val_loss: 0.8158 - val_accuracy: 0.5862 - val_auc: 0.6019\n",
      "Epoch 7/30\n",
      "280/280 [==============================] - 1s 2ms/step - loss: 0.8080 - accuracy: 0.5911 - auc: 0.6172 - val_loss: 0.8053 - val_accuracy: 0.5929 - val_auc: 0.6058\n",
      "Epoch 8/30\n",
      "280/280 [==============================] - 0s 2ms/step - loss: 0.8001 - accuracy: 0.5854 - auc: 0.6078 - val_loss: 0.7970 - val_accuracy: 0.5978 - val_auc: 0.6085\n",
      "Epoch 9/30\n",
      "280/280 [==============================] - 0s 2ms/step - loss: 0.7931 - accuracy: 0.5747 - auc: 0.6099 - val_loss: 0.7907 - val_accuracy: 0.6000 - val_auc: 0.6102\n",
      "Epoch 10/30\n",
      "280/280 [==============================] - 0s 2ms/step - loss: 0.7833 - accuracy: 0.5893 - auc: 0.6241 - val_loss: 0.7847 - val_accuracy: 0.6049 - val_auc: 0.6140\n",
      "Epoch 11/30\n",
      "280/280 [==============================] - 1s 2ms/step - loss: 0.7803 - accuracy: 0.5989 - auc: 0.6182 - val_loss: 0.7828 - val_accuracy: 0.6054 - val_auc: 0.6099\n",
      "Epoch 12/30\n",
      "280/280 [==============================] - 1s 2ms/step - loss: 0.7762 - accuracy: 0.5993 - auc: 0.6197 - val_loss: 0.7762 - val_accuracy: 0.6040 - val_auc: 0.6134\n",
      "Epoch 13/30\n",
      "280/280 [==============================] - 0s 2ms/step - loss: 0.7741 - accuracy: 0.5888 - auc: 0.6170 - val_loss: 0.7733 - val_accuracy: 0.6107 - val_auc: 0.6108\n",
      "Epoch 14/30\n",
      "280/280 [==============================] - 0s 2ms/step - loss: 0.7633 - accuracy: 0.6074 - auc: 0.6271 - val_loss: 0.7691 - val_accuracy: 0.6067 - val_auc: 0.6139\n",
      "Epoch 15/30\n",
      "280/280 [==============================] - 0s 2ms/step - loss: 0.7556 - accuracy: 0.6102 - auc: 0.6391 - val_loss: 0.7645 - val_accuracy: 0.6089 - val_auc: 0.6151\n",
      "Epoch 16/30\n",
      "280/280 [==============================] - 0s 2ms/step - loss: 0.7599 - accuracy: 0.5933 - auc: 0.6236 - val_loss: 0.7615 - val_accuracy: 0.6107 - val_auc: 0.6142\n",
      "Epoch 17/30\n",
      "280/280 [==============================] - 0s 1ms/step - loss: 0.7505 - accuracy: 0.6114 - auc: 0.6357 - val_loss: 0.7594 - val_accuracy: 0.6112 - val_auc: 0.6111\n",
      "Epoch 18/30\n",
      "280/280 [==============================] - 0s 2ms/step - loss: 0.7553 - accuracy: 0.5944 - auc: 0.6185 - val_loss: 0.7546 - val_accuracy: 0.6098 - val_auc: 0.6167\n",
      "Epoch 19/30\n",
      "280/280 [==============================] - 0s 2ms/step - loss: 0.7459 - accuracy: 0.5978 - auc: 0.6336 - val_loss: 0.7497 - val_accuracy: 0.6103 - val_auc: 0.6162\n",
      "Epoch 20/30\n",
      "280/280 [==============================] - 0s 2ms/step - loss: 0.7482 - accuracy: 0.5905 - auc: 0.6222 - val_loss: 0.7489 - val_accuracy: 0.6121 - val_auc: 0.6139\n",
      "Epoch 21/30\n",
      "280/280 [==============================] - 0s 2ms/step - loss: 0.7370 - accuracy: 0.6021 - auc: 0.6370 - val_loss: 0.7450 - val_accuracy: 0.6071 - val_auc: 0.6143\n",
      "Epoch 22/30\n",
      "280/280 [==============================] - 0s 2ms/step - loss: 0.7375 - accuracy: 0.6040 - auc: 0.6319 - val_loss: 0.7425 - val_accuracy: 0.6143 - val_auc: 0.6142\n",
      "Epoch 23/30\n",
      "280/280 [==============================] - 0s 1ms/step - loss: 0.7379 - accuracy: 0.5960 - auc: 0.6281 - val_loss: 0.7408 - val_accuracy: 0.6134 - val_auc: 0.6137\n",
      "Epoch 24/30\n",
      "280/280 [==============================] - 0s 1ms/step - loss: 0.7302 - accuracy: 0.6028 - auc: 0.6339 - val_loss: 0.7412 - val_accuracy: 0.6121 - val_auc: 0.6083\n",
      "Epoch 25/30\n",
      "280/280 [==============================] - 0s 2ms/step - loss: 0.7333 - accuracy: 0.5971 - auc: 0.6256 - val_loss: 0.7418 - val_accuracy: 0.6116 - val_auc: 0.6099\n",
      "Epoch 26/30\n",
      "280/280 [==============================] - 0s 2ms/step - loss: 0.7336 - accuracy: 0.5976 - auc: 0.6264 - val_loss: 0.7399 - val_accuracy: 0.6156 - val_auc: 0.6122\n",
      "Epoch 27/30\n",
      "280/280 [==============================] - 0s 1ms/step - loss: 0.7333 - accuracy: 0.5929 - auc: 0.6247 - val_loss: 0.7363 - val_accuracy: 0.6089 - val_auc: 0.6097\n",
      "Epoch 28/30\n",
      "280/280 [==============================] - 0s 2ms/step - loss: 0.7307 - accuracy: 0.5924 - auc: 0.6257 - val_loss: 0.7356 - val_accuracy: 0.6098 - val_auc: 0.6098\n",
      "Epoch 29/30\n",
      "280/280 [==============================] - 0s 1ms/step - loss: 0.7265 - accuracy: 0.6036 - auc: 0.6273 - val_loss: 0.7345 - val_accuracy: 0.6112 - val_auc: 0.6072\n",
      "Epoch 30/30\n",
      "280/280 [==============================] - 0s 2ms/step - loss: 0.7287 - accuracy: 0.5971 - auc: 0.6241 - val_loss: 0.7339 - val_accuracy: 0.6129 - val_auc: 0.6090\n"
     ]
    },
    {
     "data": {
      "text/plain": [
       "<matplotlib.legend.Legend at 0x7fa1eb3cca10>"
      ]
     },
     "execution_count": 61,
     "metadata": {},
     "output_type": "execute_result"
    },
    {
     "data": {
      "image/png": "[encoded data removed]",
      "text/plain": [
       "<Figure size 432x288 with 1 Axes>"
      ]
     },
     "metadata": {
      "needs_background": "light"
     },
     "output_type": "display_data"
    }
   ],
   "source": [
    "from keras.layers import Dense, SimpleRNN,LSTM,GRU\n",
    "\n",
    "model_lstm = Sequential()\n",
    "#COMMENT/UNCOMMENT TO USE RNN, LSTM,GRU\n",
    "# model.add(SpatialDropout1D(0.2))\n",
    "model_lstm.add(LSTM(\n",
    "# model.add(SimpleRNN(\n",
    "# model.add(GRU(\n",
    "64, input_shape=(X_train_3d.shape[1:]),\n",
    "activation='sigmoid', kernel_regularizer=tf.keras.regularizers.l2(0.001),\n",
    "    bias_regularizer=tf.keras.regularizers.l2(0.001),\n",
    "    activity_regularizer=tf.keras.regularizers.l1_l2(0.001))) \n",
    "#NEED TO TAKE THE OUTPUT RNN AND CONVERT TO SCALAR \n",
    "model_lstm.add(Dense(units=1, activation='linear',))\n",
    "model_lstm.compile(optimizer=RMSprop(lr=1e-4),\n",
    "loss=tf.keras.losses.BinaryCrossentropy(from_logits=True),\n",
    " metrics=METRICS)\n",
    "\n",
    "#TRAIN MODEL\n",
    "history_lstm = model_lstm.fit(\n",
    "X_train_3d, y_train, \n",
    "epochs=30, \n",
    "validation_split=0.2)\n",
    "\n",
    "#HISTORY PLOT\n",
    "epochs = range(1, len(history.history['loss']) + 1)\n",
    "plt.figure()\n",
    "plt.plot(epochs, history_lstm.history['loss'], 'bo', label='Training loss')\n",
    "plt.plot(epochs, history_lstm.history['val_loss'], 'b', label='Validation loss')\n",
    "plt.legend()"
   ]
  },
  {
   "cell_type": "code",
   "execution_count": 62,
   "metadata": {},
   "outputs": [
    {
     "name": "stdout",
     "output_type": "stream",
     "text": [
      "88/88 [==============================] - 1s 2ms/step - loss: 0.7221 - accuracy: 0.6096 - auc: 0.6368\n"
     ]
    },
    {
     "data": {
      "text/plain": [
       "[0.7220873832702637, 0.6096428632736206, 0.6368263363838196]"
      ]
     },
     "execution_count": 62,
     "metadata": {},
     "output_type": "execute_result"
    }
   ],
   "source": [
    "model_lstm.evaluate(X_test_3d,y_test)"
   ]
  },
  {
   "cell_type": "code",
   "execution_count": 64,
   "metadata": {},
   "outputs": [
    {
     "name": "stdout",
     "output_type": "stream",
     "text": [
      "INFO:tensorflow:Assets written to: ./saved_models/lstm/assets\n"
     ]
    },
    {
     "name": "stderr",
     "output_type": "stream",
     "text": [
      "INFO:tensorflow:Assets written to: ./saved_models/lstm/assets\n"
     ]
    }
   ],
   "source": [
    "model_lstm.save('./saved_models/lstm')"
   ]
  }
 ],
 "metadata": {
  "kernelspec": {
   "display_name": "Python 3",
   "language": "python",
   "name": "python3"
  },
  "language_info": {
   "codemirror_mode": {
    "name": "ipython",
    "version": 3
   },
   "file_extension": ".py",
   "mimetype": "text/x-python",
   "name": "python",
   "nbconvert_exporter": "python",
   "pygments_lexer": "ipython3",
   "version": "3.7.6"
  }
 },
 "nbformat": 4,
 "nbformat_minor": 4
}

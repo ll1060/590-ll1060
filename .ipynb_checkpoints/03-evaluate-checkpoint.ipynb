{
 "cells": [
  {
   "cell_type": "code",
   "execution_count": 1,
   "metadata": {},
   "outputs": [],
   "source": [
    "from tensorflow import keras\n",
    "from keras.optimizers import RMSprop\n",
    "from keras.optimizers import Adam\n",
    "import tensorflow as tf\n",
    "import numpy as np\n",
    "conv_model = keras.models.load_model('./saved_models/1DConv',compile=True)\n",
    "lstm_model = keras.models.load_model('./saved_models/lstm',compile=True)"
   ]
  },
  {
   "cell_type": "code",
   "execution_count": 2,
   "metadata": {},
   "outputs": [],
   "source": [
    "X_train =  np.load('./train_test_data/X_train.npy')\n",
    "X_test =  np.load('./train_test_data/X_test.npy')\n",
    "X_train_3d =  np.load('./train_test_data/X_train_3d.npy')\n",
    "X_test_3d =  np.load('./train_test_data/X_test_3d.npy')\n",
    "y_train =  np.load('./train_test_data/y_train.npy')\n",
    "y_test = np.load('./train_test_data/y_test.npy')"
   ]
  },
  {
   "cell_type": "code",
   "execution_count": 3,
   "metadata": {},
   "outputs": [
    {
     "name": "stderr",
     "output_type": "stream",
     "text": [
      "/Users/lingfengcao/opt/anaconda3/lib/python3.7/site-packages/tensorflow/python/keras/optimizer_v2/optimizer_v2.py:375: UserWarning: The `lr` argument is deprecated, use `learning_rate` instead.\n",
      "  \"The `lr` argument is deprecated, use `learning_rate` instead.\")\n"
     ]
    }
   ],
   "source": [
    "METRICS = [\n",
    "      keras.metrics.BinaryAccuracy(name='accuracy',),\n",
    "      keras.metrics.AUC(name='auc',from_logits=True)]\n",
    "\n",
    "conv_model.compile(optimizer=RMSprop(lr=1e-4),\n",
    "loss=tf.keras.losses.BinaryCrossentropy(from_logits=True),\n",
    " metrics=METRICS)"
   ]
  },
  {
   "cell_type": "code",
   "execution_count": 4,
   "metadata": {},
   "outputs": [
    {
     "name": "stdout",
     "output_type": "stream",
     "text": [
      "350/350 [==============================] - 1s 855us/step - loss: 0.5386 - accuracy: 0.6924 - auc: 0.8252\n",
      "1d Convolutional model training metrics:  [0.5386332869529724, 0.6924107074737549, 0.8251940011978149]\n",
      "88/88 [==============================] - 0s 1ms/step - loss: 0.5727 - accuracy: 0.6786 - auc: 0.7752\n",
      "1d Convolutional model testing metrics:  [0.5726688504219055, 0.6785714030265808, 0.7751932144165039]\n"
     ]
    }
   ],
   "source": [
    "print('1d Convolutional model training metrics: ', conv_model.evaluate(X_train, y_train))\n",
    "print('1d Convolutional model testing metrics: ', conv_model.evaluate(X_test,y_test))"
   ]
  },
  {
   "cell_type": "code",
   "execution_count": 5,
   "metadata": {},
   "outputs": [],
   "source": [
    "lstm_model.compile(optimizer=RMSprop(lr=1e-4),\n",
    "loss=tf.keras.losses.BinaryCrossentropy(from_logits=True),\n",
    " metrics=METRICS)"
   ]
  },
  {
   "cell_type": "code",
   "execution_count": 7,
   "metadata": {},
   "outputs": [
    {
     "name": "stdout",
     "output_type": "stream",
     "text": [
      "350/350 [==============================] - 1s 988us/step - loss: 0.7413 - accuracy: 0.6000 - auc: 0.6341\n",
      "LSTM model training metrics:  [0.7412785291671753, 0.6000000238418579, 0.6341142654418945]\n",
      "88/88 [==============================] - 0s 2ms/step - loss: 0.7378 - accuracy: 0.6100 - auc: 0.6329\n",
      "LSTM model testing metrics:  [0.7377936840057373, 0.6100000143051147, 0.6329264044761658]\n"
     ]
    }
   ],
   "source": [
    "print('LSTM model training metrics: ', lstm_model.evaluate(X_train_3d, y_train))\n",
    "print('LSTM model testing metrics: ', lstm_model.evaluate(X_test_3d,y_test))"
   ]
  },
  {
   "cell_type": "code",
   "execution_count": null,
   "metadata": {},
   "outputs": [],
   "source": []
  }
 ],
 "metadata": {
  "kernelspec": {
   "display_name": "Python 3",
   "language": "python",
   "name": "python3"
  },
  "language_info": {
   "codemirror_mode": {
    "name": "ipython",
    "version": 3
   },
   "file_extension": ".py",
   "mimetype": "text/x-python",
   "name": "python",
   "nbconvert_exporter": "python",
   "pygments_lexer": "ipython3",
   "version": "3.7.6"
  }
 },
 "nbformat": 4,
 "nbformat_minor": 4
}
